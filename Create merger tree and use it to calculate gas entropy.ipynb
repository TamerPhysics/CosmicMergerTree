{
 "cells": [
  {
   "cell_type": "markdown",
   "metadata": {},
   "source": [
    "# Introduction\n",
    "\n",
    "## Hierarchical Structure Formation\n",
    "\n",
    "The universe is full of stars, galaxies, and groupings of the latter which we call galaxy clusters. It also contains groups of galaxy clusters, super-clusters. As we currently understand it, all this _structure_ has formed in a bottom-up way, where smaller objects have been merging together to form larger objects.\n",
    "\n",
    "This model has been quantified through large many-body simulations, where the universe is modelled as many particles, which interact gravitationally over a background of an expanding universe as understood through Einstein's General Relativity. These simulations are generally very computationally expensive as they keep track of a large number of \"particles.\" \n",
    "\n",
    "## Galaxy Cluster X-ray Observations\n",
    "\n",
    "<img src=\"a119xrayoptical_crop.png\" align=\"right\" width=\"350\" />\n",
    "\n",
    "In my research, I looked at galaxy clusters, which are structures formed in the above way. These galaxy clusters are made up of ~90% dark matter, ~10% hot X-ray emitting gas, and perhaps a few percent of these pretty looking galaxies. I studied the hot gas (the 10% part) through the X-ray it emits, which was observed with NASA's [Chandra X-ray Observatory](https://chandra.harvard.edu). The image to the right shows one such cluster, Abell 119. The optical image (available publicly through [DSS](https://archive.eso.org/dss/dss)) is shown in yellow, where the yellow patches are the galaxies in the cluster (mixed in with some foreground stars in our own galaxy.) The blue cloud represents the X-ray emission from the hot (in this case 70 million degress Celsius) gas.\n",
    "\n",
    "The X-ray emission is rich in information about the gas temperature and the different elements making up the gas. From spatially resolved spectral analysis, one can deduce the temperature of the gas at different locations, as well as which regions are richer in iron, for example. This is exactly the analysis I did for 46 clusters. You read the full story (and download the data too if you'd like) here: \n",
    "\n",
    "https://ui.adsabs.harvard.edu/abs/2015ApJ...805....3E/\n",
    "\n",
    "This analysis resulted in the spatially resolved measurements of gas temperature, density and metallicity (a measure of how chemically rich it is in heavier elements) for 46 galaxy clusters. In the data, there was an indication of a possible link between the metallicities observed in different clusters and the idea hierarchical structure formation discussed above!\n",
    "\n",
    "\n",
    "# Supernovae, Metals and Heating\n",
    "\n"
   ]
  },
  {
   "cell_type": "code",
   "execution_count": null,
   "metadata": {
    "collapsed": true
   },
   "outputs": [],
   "source": []
  }
 ],
 "metadata": {
  "anaconda-cloud": {},
  "kernelspec": {
   "display_name": "Python [conda root]",
   "language": "python",
   "name": "conda-root-py"
  },
  "language_info": {
   "codemirror_mode": {
    "name": "ipython",
    "version": 3
   },
   "file_extension": ".py",
   "mimetype": "text/x-python",
   "name": "python",
   "nbconvert_exporter": "python",
   "pygments_lexer": "ipython3",
   "version": "3.5.2"
  }
 },
 "nbformat": 4,
 "nbformat_minor": 1
}
